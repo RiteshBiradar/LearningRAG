{
 "cells": [
  {
   "cell_type": "markdown",
   "id": "6e6a9de7",
   "metadata": {},
   "source": [
    "### Issues with RecursiveCharacter Text Splitter\n",
    "- It used to only chunk a sentence\n",
    "- If a single paragraph is talking about multiple things, then it splits not based on context, based on tokens or overlap\n",
    "- But we need chunks based on different context and each context must have there own unique meaning "
   ]
  },
  {
   "cell_type": "markdown",
   "id": "719b7ee6",
   "metadata": {},
   "source": [
    "## Semantic Search : It provides contextual rich logically seperated chunks\n",
    "\n",
    "### Steps \n",
    "- Document Segmentation (based on sentence or paragraph)\n",
    "- Embeddings\n",
    "- Semantic similarity search (cosine similarity on embeddings)\n",
    "- Merging sentences with higher similar cosine value\n",
    "- Forming chunks"
   ]
  },
  {
   "cell_type": "code",
   "execution_count": 1,
   "id": "10c26610",
   "metadata": {},
   "outputs": [
    {
     "name": "stderr",
     "output_type": "stream",
     "text": [
      "c:\\Users\\rites\\Desktop\\RAG\\RAG\\.venv\\lib\\site-packages\\tqdm\\auto.py:21: TqdmWarning: IProgress not found. Please update jupyter and ipywidgets. See https://ipywidgets.readthedocs.io/en/stable/user_install.html\n",
      "  from .autonotebook import tqdm as notebook_tqdm\n"
     ]
    }
   ],
   "source": [
    "from sklearn.metrics.pairwise import cosine_similarity\n",
    "from sentence_transformers import SentenceTransformer"
   ]
  },
  {
   "cell_type": "code",
   "execution_count": 6,
   "id": "f3a4be94",
   "metadata": {},
   "outputs": [],
   "source": [
    "model = SentenceTransformer('all-MiniLM-L6-v2')\n",
    "text = \"\"\"\n",
    "    AI is transforming industries.\n",
    "    Machine learning is a subset of AI.\n",
    "I love pizza.\n",
    "It tastes great.\n",
    "\"\"\""
   ]
  },
  {
   "cell_type": "code",
   "execution_count": 8,
   "id": "8876ed8c",
   "metadata": {},
   "outputs": [
    {
     "name": "stdout",
     "output_type": "stream",
     "text": [
      "Chunk 1: AI is transforming industries. Machine learning is a subset of AI.\n",
      "\n",
      "Chunk 2: I love pizza. It tastes great.\n",
      "\n"
     ]
    }
   ],
   "source": [
    "#Split into sentences\n",
    "sentences = [s.strip() for s in text.split(\"\\n\") if s.strip()]\n",
    "\n",
    "#embeddings\n",
    "embeddings = model.encode(sentences)\n",
    "\n",
    "#Initalize parameters\n",
    "threshold = 0.4\n",
    "chunks = []\n",
    "current_chunk = [sentences[0]]\n",
    "\n",
    "#Similarirty based chunking\n",
    "for i in range(1,len(sentences)):\n",
    "    sim = cosine_similarity([embeddings[i]], [embeddings[i-1]])[0][0]\n",
    "    if sim >=threshold:\n",
    "        current_chunk.append(sentences[i])\n",
    "    else:\n",
    "        chunks.append(\" \".join(current_chunk))\n",
    "        current_chunk = [sentences[i]]\n",
    "\n",
    "chunks.append(\" \".join(current_chunk))\n",
    "\n",
    "for idx, chunk in enumerate(chunks):\n",
    "    print(f\"Chunk {idx+1}: {chunk}\\n\")\n"
   ]
  }
 ],
 "metadata": {
  "kernelspec": {
   "display_name": "RAG",
   "language": "python",
   "name": "python3"
  },
  "language_info": {
   "codemirror_mode": {
    "name": "ipython",
    "version": 3
   },
   "file_extension": ".py",
   "mimetype": "text/x-python",
   "name": "python",
   "nbconvert_exporter": "python",
   "pygments_lexer": "ipython3",
   "version": "3.10.0"
  }
 },
 "nbformat": 4,
 "nbformat_minor": 5
}
