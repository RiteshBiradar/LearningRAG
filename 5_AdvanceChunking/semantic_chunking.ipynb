{
 "cells": [
  {
   "cell_type": "markdown",
   "id": "6e6a9de7",
   "metadata": {},
   "source": [
    "### Issues with RecursiveCharacter Text Splitter\n",
    "- It used to only chunk a sentence\n",
    "- If a single paragraph is talking about multiple things, then it splits not based on context, based on tokens or overlap\n",
    "- But we need chunks based on different context and each context must have there own unique meaning "
   ]
  },
  {
   "cell_type": "markdown",
   "id": "719b7ee6",
   "metadata": {},
   "source": [
    "## Semantic Search : It provides contextual rich logically seperated chunks\n",
    "\n",
    "### Steps \n",
    "- Document Segmentation (based on sentence or paragraph)\n",
    "- Embeddings\n",
    "- Semantic similarity search (cosine similarity on embeddings)\n",
    "- Merging sentences with higher similar cosine value\n",
    "- Forming chunks"
   ]
  }
 ],
 "metadata": {
  "language_info": {
   "name": "python"
  }
 },
 "nbformat": 4,
 "nbformat_minor": 5
}
