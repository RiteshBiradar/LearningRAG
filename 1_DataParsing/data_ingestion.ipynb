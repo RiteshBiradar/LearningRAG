{
 "cells": [
  {
   "cell_type": "code",
   "execution_count": 1,
   "id": "8f805d50",
   "metadata": {},
   "outputs": [],
   "source": [
    "from langchain_core.documents import Document"
   ]
  },
  {
   "cell_type": "code",
   "execution_count": 2,
   "id": "b6b787e6",
   "metadata": {},
   "outputs": [
    {
     "name": "stdout",
     "output_type": "stream",
     "text": [
      "This a basic LangChain Document format\n",
      "Content : This is the main content of the document that will be embedded and searched\n",
      "Metadata : {'source': 'file1.txt', 'author': 'John Doe', 'date': '2023-10-01'}\n"
     ]
    }
   ],
   "source": [
    "doc = Document(\n",
    "    page_content=\"This is the main content of the document that will be embedded and searched\",\n",
    "    metadata = {\n",
    "        \"source\": \"file1.txt\",\n",
    "        \"author\": \"John Doe\",\n",
    "        \"date\": \"2023-10-01\"\n",
    "    }\n",
    ")\n",
    "print(\"This a basic LangChain Document format\")\n",
    "print(f\"Content : {doc.page_content}\")\n",
    "print(f\"Metadata : {doc.metadata}\")"
   ]
  },
  {
   "cell_type": "markdown",
   "id": "16c636fc",
   "metadata": {},
   "source": [
    "### TextInserting and Text Parsing"
   ]
  },
  {
   "cell_type": "code",
   "execution_count": 3,
   "id": "63da050f",
   "metadata": {},
   "outputs": [],
   "source": [
    "import os \n",
    "os.makedirs(\"data/text_files\",exist_ok=True)"
   ]
  },
  {
   "cell_type": "code",
   "execution_count": 4,
   "id": "a5efca48",
   "metadata": {},
   "outputs": [],
   "source": [
    "sample_text = {\n",
    "    \"data/text_files/python.txt\" : \"Python is a high-level, interpreted programming language known for its readability and versatility.\",\n",
    "    \"data/text_files/java.txt\" : \"Java is a class-based, object-oriented programming language designed to have as few implementation dependencies as possible.\"\n",
    "}\n",
    "\n",
    "for file_path,content in sample_text.items():\n",
    "    with open(file_path,'w',encoding = \"utf-8\") as f:\n",
    "        f.write(content)"
   ]
  },
  {
   "cell_type": "code",
   "execution_count": 5,
   "id": "43fc17fc",
   "metadata": {},
   "outputs": [
    {
     "name": "stdout",
     "output_type": "stream",
     "text": [
      "{'source': 'data/text_files/java.txt'}\n",
      "Java is a class-based, object-oriented programming language designed to have as few implementation dependencies as possible.\n"
     ]
    }
   ],
   "source": [
    "from langchain.document_loaders import TextLoader\n",
    "loader = TextLoader(\"data/text_files/java.txt\",encoding=\"utf-8\")\n",
    "document = loader.load();\n",
    "\n",
    "print(document[0].metadata)\n",
    "print(document[0].page_content)"
   ]
  },
  {
   "cell_type": "code",
   "execution_count": 6,
   "id": "4ee446bb",
   "metadata": {},
   "outputs": [
    {
     "name": "stdout",
     "output_type": "stream",
     "text": [
      "[Document(metadata={'source': 'data\\\\text_files\\\\java.txt'}, page_content='Java is a class-based, object-oriented programming language designed to have as few implementation dependencies as possible.'), Document(metadata={'source': 'data\\\\text_files\\\\python.txt'}, page_content='Python is a high-level, interpreted programming language known for its readability and versatility.')]\n"
     ]
    }
   ],
   "source": [
    "from langchain.document_loaders import DirectoryLoader\n",
    "from langchain.document_loaders import TextLoader\n",
    "\n",
    "document_loader = DirectoryLoader(\n",
    "    \"data/text_files/\",\n",
    "    glob = \"**/*.txt\",\n",
    "    loader_cls = TextLoader,\n",
    "    loader_kwargs = {\"encoding\":\"utf-8\"}\n",
    ")\n",
    "\n",
    "documents = document_loader.load()\n",
    "print(documents)\n"
   ]
  },
  {
   "cell_type": "markdown",
   "id": "90571a5f",
   "metadata": {},
   "source": [
    "### Text Splitting :"
   ]
  },
  {
   "cell_type": "code",
   "execution_count": 7,
   "id": "3d7d5ce6",
   "metadata": {},
   "outputs": [
    {
     "name": "stderr",
     "output_type": "stream",
     "text": [
      "Created a chunk of size 12, which is longer than the specified 10\n",
      "Created a chunk of size 15, which is longer than the specified 10\n",
      "Created a chunk of size 11, which is longer than the specified 10\n",
      "Created a chunk of size 14, which is longer than the specified 10\n",
      "Created a chunk of size 12, which is longer than the specified 10\n"
     ]
    },
    {
     "name": "stdout",
     "output_type": "stream",
     "text": [
      "Character Text Splitter :\n",
      "Splitted into 12 chunks\n",
      "Java is a\n"
     ]
    }
   ],
   "source": [
    "print(\"Character Text Splitter :\")\n",
    "from langchain.text_splitter import CharacterTextSplitter\n",
    "\n",
    "text_splitter = CharacterTextSplitter(\n",
    "    separator = \" \",\n",
    "    chunk_size = 10,\n",
    "    chunk_overlap = 4,\n",
    "    length_function = len\n",
    ")\n",
    "texts = text_splitter.split_text(documents[0].page_content)\n",
    "print(f\"Splitted into {len(texts)} chunks\")\n",
    "print(texts[0])"
   ]
  },
  {
   "cell_type": "markdown",
   "id": "7f7340ec",
   "metadata": {},
   "source": [
    "### Recursive Character Text Splitter"
   ]
  },
  {
   "cell_type": "code",
   "execution_count": 12,
   "id": "d95e373a",
   "metadata": {},
   "outputs": [
    {
     "name": "stdout",
     "output_type": "stream",
     "text": [
      "Recursive Character Text Splitter :\n",
      "Splitted into 5 chunks\n",
      "Java is a class-based,\n",
      "object-oriented programming\n",
      "language designed to have as\n"
     ]
    }
   ],
   "source": [
    "print(\"Recursive Character Text Splitter :\")\n",
    "from langchain.text_splitter import RecursiveCharacterTextSplitter\n",
    "\n",
    "text_splitter = RecursiveCharacterTextSplitter(\n",
    "    separators = [\" \"],\n",
    "    chunk_size = 30,\n",
    "    chunk_overlap = 8,\n",
    "    length_function = len\n",
    ")\n",
    "texts = text_splitter.split_text(documents[0].page_content)\n",
    "print(f\"Splitted into {len(texts)} chunks\")\n",
    "print(texts[0])\n",
    "print(texts[1])\n",
    "print(texts[2])"
   ]
  },
  {
   "cell_type": "markdown",
   "id": "8ce30c95",
   "metadata": {},
   "source": [
    "### TokenBased Splitting"
   ]
  },
  {
   "cell_type": "code",
   "execution_count": null,
   "id": "a00f045b",
   "metadata": {},
   "outputs": [],
   "source": [
    "from langchain.text_splitter import TokenTextSplitter\n",
    "\n",
    "text_splitter = TokenTextSplitter(\n",
    "    chunk_size = 10,\n",
    "    chunk_overlap = 4\n",
    ")\n",
    "texts = text_splitter.split_text(documents[0].page_content)\n",
    "print(f\"Splitted into {len(texts)} chunks\")\n",
    "print(texts[0])"
   ]
  }
 ],
 "metadata": {
  "kernelspec": {
   "display_name": "RAG",
   "language": "python",
   "name": "python3"
  },
  "language_info": {
   "codemirror_mode": {
    "name": "ipython",
    "version": 3
   },
   "file_extension": ".py",
   "mimetype": "text/x-python",
   "name": "python",
   "nbconvert_exporter": "python",
   "pygments_lexer": "ipython3",
   "version": "3.10.0"
  }
 },
 "nbformat": 4,
 "nbformat_minor": 5
}
